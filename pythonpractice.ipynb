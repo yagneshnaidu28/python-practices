{
  "cells": [
    {
      "cell_type": "code",
      "execution_count": null,
      "metadata": {
        "colab": {
          "base_uri": "https://localhost:8080/"
        },
        "id": "zBjOlzQJ6-bS",
        "outputId": "28aaa0f5-057c-4f8c-b614-c8640d6ba6e0"
      },
      "outputs": [
        {
          "name": "stdout",
          "output_type": "stream",
          "text": [
            "2 34 5 67 \n",
            "3 44 1 \n",
            "65 4 3 9 \n",
            "9 4 3 2 \n"
          ]
        }
      ],
      "source": [
        "#linked list of 2d array\n",
        "from array import *\n",
        "x=[[2,34,5,67],[3,44,1],[65,4,3,9],[9,4,3,2]]\n",
        "\n",
        "\n",
        "for i in x:\n",
        "    for y in i:\n",
        "        print(y,end=' ')\n",
        "    print()\n"
      ]
    },
    {
      "cell_type": "code",
      "execution_count": null,
      "metadata": {
        "colab": {
          "base_uri": "https://localhost:8080/"
        },
        "id": "27diUGSN9vUG",
        "outputId": "b9dbb800-abf4-4897-d4f8-be1b7b5a8b80"
      },
      "outputs": [
        {
          "name": "stdout",
          "output_type": "stream",
          "text": [
            "enter any choice:(1.push 2.pop 3.display)3\n",
            "list is empty\n",
            "enter any choice:(1.push 2.pop 3.display)1\n",
            "enter numnberyou wanted to add to the list :2\n",
            "[2]\n",
            "enter any choice:(1.push 2.pop 3.display)1\n",
            "enter numnberyou wanted to add to the list :3\n",
            "[2, 3]\n",
            "enter any choice:(1.push 2.pop 3.display)3\n",
            "[2, 3]\n",
            "enter any choice:(1.push 2.pop 3.display)3\n",
            "[2, 3]\n"
          ]
        }
      ],
      "source": [
        "#stack program from user input\n",
        "list1=[]\n",
        "def push(z):\n",
        "  list1.append(z)\n",
        "  return list1\n",
        "f=int(input(\"enter no.of elements to be in stack:\"))\n",
        "for i in range(0,f):\n",
        "  x=int(input(\"enter any choice:(1.push 2.pop 3.display)\"))\n",
        "  if(x==1):\n",
        "    z=int(input(\"enter numnberyou wanted to add to the list :\"))\n",
        "    print(push(z))\n",
        "  elif(x==2):\n",
        "    if(len(list1)>1):\n",
        "      list1.pop()\n",
        "      print(list1)\n",
        "    else:\n",
        "      print(\"can't delete elements from empty list\")\n",
        "  elif(x==3):\n",
        "    if (len(list1)==0):\n",
        "      print(\"list is empty\")\n",
        "    else:\n",
        "      print(list1)"
      ]
    },
    {
      "cell_type": "code",
      "execution_count": null,
      "metadata": {
        "colab": {
          "base_uri": "https://localhost:8080/"
        },
        "id": "19yfSDLeASpj",
        "outputId": "feda0539-35cc-4f22-a6c5-567adb5ac478"
      },
      "outputs": [
        {
          "name": "stdout",
          "output_type": "stream",
          "text": [
            "enter no.of elements to be in queue:4\n",
            "enter any choice:(1.push 2.pop 3.display)1\n",
            "enter numnberyou wanted to add to the queue :6\n",
            "[6]\n",
            "enter any choice:(1.push 2.pop 3.display)1\n",
            "enter numnberyou wanted to add to the queue :7\n",
            "[6, 7]\n",
            "enter any choice:(1.push 2.pop 3.display)2\n",
            "[7]\n",
            "enter any choice:(1.push 2.pop 3.display)3\n"
          ]
        }
      ],
      "source": [
        "# queue program to take user input\n",
        "\n",
        "list2=[]\n",
        "def enque(z):\n",
        "  list2.append(z)\n",
        "  return list2\n",
        "def deque():\n",
        "  list2.remove(list2[0])\n",
        "  return list2\n",
        "f=int(input(\"enter no.of elements to be in queue:\"))\n",
        "\n",
        "for i in range(0,f):\n",
        "  x=int(input(\"enter any choice:(1.push 2.pop 3.display)\"))\n",
        "  if(x==1):\n",
        "    z=int(input(\"enter numnberyou wanted to add to the queue :\"))\n",
        "    print(enque(z))\n",
        "  elif(x==2):\n",
        "    print(deque())\n",
        "  elif(x==3):\n",
        "    print(list2)\n",
        "\n",
        "\n"
      ]
    },
    {
      "cell_type": "code",
      "execution_count": null,
      "metadata": {
        "colab": {
          "base_uri": "https://localhost:8080/"
        },
        "id": "9rMDo7KwCaxW",
        "outputId": "d76af075-a965-434a-c27b-9f50d5855d60"
      },
      "outputs": [
        {
          "name": "stdout",
          "output_type": "stream",
          "text": [
            "None\n"
          ]
        }
      ],
      "source": [
        "list3=[3,4,2,1,7]\n",
        "print(list3.sort())"
      ]
    },
    {
      "cell_type": "code",
      "execution_count": null,
      "metadata": {
        "colab": {
          "base_uri": "https://localhost:8080/"
        },
        "id": "wGKYTscYEwNO",
        "outputId": "a5037a5d-a5f6-433d-e4d0-467a3a5811e3"
      },
      "outputs": [
        {
          "name": "stdout",
          "output_type": "stream",
          "text": [
            "Sorted array is:\n",
            "1\n",
            "2\n",
            "10\n",
            "23\n"
          ]
        }
      ],
      "source": [
        "# Python3 program for Bubble Sort Algorithm Implementation\n",
        "def bubbleSort(arr):\n",
        "\n",
        "\tn = len(arr)\n",
        "\n",
        "\t# For loop to traverse through all\n",
        "\t# element in an array\n",
        "\tfor i in range(n):\n",
        "\t\tfor j in range(0, n - i - 1):\n",
        "\n",
        "\t\t\t# Range of the array is from 0 to n-i-1\n",
        "\t\t\t# Swap the elements if the element found\n",
        "\t\t\t#is greater than the adjacent element\n",
        "\t\t\tif arr[j] > arr[j + 1]:\n",
        "\t\t\t\tarr[j], arr[j + 1] = arr[j + 1], arr[j]\n",
        "\n",
        "# Driver code\n",
        "\n",
        "# Example to test the above code\n",
        "arr = [ 2, 1, 10, 23 ]\n",
        "\n",
        "bubbleSort(arr)\n",
        "\n",
        "print(\"Sorted array is:\")\n",
        "for i in range(len(arr)):\n",
        "\tprint(\"%d\" % arr[i])\n"
      ]
    },
    {
      "cell_type": "code",
      "execution_count": null,
      "metadata": {
        "colab": {
          "base_uri": "https://localhost:8080/"
        },
        "id": "iq0ChZfQFQ7H",
        "outputId": "eb9cf39e-7a24-4cde-cd2f-cdfa7c361c2f"
      },
      "outputs": [
        {
          "name": "stdout",
          "output_type": "stream",
          "text": [
            "Sorted Array in Ascending Order is :\n",
            "[1, 2, 6, 7]\n"
          ]
        }
      ],
      "source": [
        "# Selection Sort algorithm in Python\n",
        "def selectionSort(array, size):\n",
        "\n",
        "\tfor s in range(size):\n",
        "\t\tmin_idx = s\n",
        "\n",
        "\t\tfor i in range(s + 1, size):\n",
        "\n",
        "\t\t\t# For sorting in descending order\n",
        "\t\t\t# for minimum element in each loop\n",
        "\t\t\tif array[i] < array[min_idx]:\n",
        "\t\t\t\tmin_idx = i\n",
        "\n",
        "\t\t# Arranging min at the correct position\n",
        "\t\t(array[s], array[min_idx]) = (array[min_idx], array[s])\n",
        "\n",
        "# Driver code\n",
        "data = [ 7, 2, 1, 6 ]\n",
        "size = len(data)\n",
        "selectionSort(data, size)\n",
        "\n",
        "print('Sorted Array in Ascending Order is :')\n",
        "print(data)\n"
      ]
    },
    {
      "cell_type": "code",
      "execution_count": null,
      "metadata": {
        "colab": {
          "base_uri": "https://localhost:8080/"
        },
        "id": "QOl_nH8vFVd8",
        "outputId": "56dbfebb-34e8-4324-fc8b-7156dab4fee6"
      },
      "outputs": [
        {
          "name": "stdout",
          "output_type": "stream",
          "text": [
            "The unsorted list is: [7, 2, 1, 6]\n",
            "The sorted new list is: [1, 2, 6, 7]\n"
          ]
        }
      ],
      "source": [
        "# Creating a function for insertion sort algorithm\n",
        "def insertion_sort(list1):\n",
        "\n",
        "\t\t# Outer loop to traverse on len(list1)\n",
        "\t\tfor i in range(1, len(list1)):\n",
        "\n",
        "\t\t\ta = list1[i]\n",
        "\n",
        "\t\t\t# Move elements of list1[0 to i-1],\n",
        "\t\t\t# which are greater to one position\n",
        "\t\t\t# ahead of their current position\n",
        "\t\t\tj = i - 1\n",
        "\n",
        "\t\t\twhile j >= 0 and a < list1[j]:\n",
        "\t\t\t\tlist1[j + 1] = list1[j]\n",
        "\t\t\t\tj -= 1\n",
        "\n",
        "\t\t\tlist1[j + 1] = a\n",
        "\n",
        "\t\treturn list1\n",
        "\n",
        "# Driver code\n",
        "list1 = [ 7, 2, 1, 6 ]\n",
        "print(\"The unsorted list is:\", list1)\n",
        "print(\"The sorted new list is:\", insertion_sort(list1))\n"
      ]
    },
    {
      "cell_type": "code",
      "execution_count": null,
      "metadata": {
        "colab": {
          "base_uri": "https://localhost:8080/"
        },
        "id": "h9Qvo2Y6RJMf",
        "outputId": "60b9253f-1158-44ed-8e19-e7efc740d177"
      },
      "outputs": [
        {
          "name": "stdout",
          "output_type": "stream",
          "text": [
            "enter no.of elements to be added to stack:3\n",
            "enter elements :7\n",
            "enter elements :9\n",
            "enter elements :5\n",
            "stack before sorting is  [7, 9, 5]\n",
            "stack after bubble sort is [5, 7, 9]\n"
          ]
        }
      ],
      "source": [
        "# bubble sort algorithm by own\n",
        "stack=[]\n",
        "x=int(input(\"enter no.of elements to be added to stack:\"))\n",
        "for i in range(0,x):\n",
        "  z=int(input(\"enter elements :\"))\n",
        "  stack.append(z)\n",
        "print(\"stack before sorting is \",stack)\n",
        "\n",
        "\n",
        "def bubblesort(stack,x):\n",
        "  for i in range(x):\n",
        "    for j in range(0,x-i-1):\n",
        "      if stack[j] > stack[j + 1]:\n",
        "        stack[j], stack[j + 1] = stack[j + 1], stack[j]\n",
        "  return stack\n",
        "print(\"stack after bubble sort is\",bubblesort(stack,x))\n"
      ]
    },
    {
      "cell_type": "code",
      "execution_count": null,
      "metadata": {
        "colab": {
          "base_uri": "https://localhost:8080/"
        },
        "id": "kN--aQqJALN5",
        "outputId": "cb38be50-56a2-4b68-c78b-eecdac5178e7"
      },
      "outputs": [
        {
          "name": "stdout",
          "output_type": "stream",
          "text": [
            "hi\n",
            "this \n",
            "this \n",
            "this \n",
            "hi\n",
            "this \n",
            "this \n",
            "hi\n",
            "this \n",
            "hi\n",
            "o\n",
            "o\n",
            "o\n",
            "o\n",
            "o\n",
            "o\n"
          ]
        }
      ],
      "source": [
        "for i in range(4):\n",
        "  print(\"hi\")\n",
        "  for j in range(0,4-i-1):\n",
        "    print(\"this \")   # this is to understand how bubble sort\n",
        "\n",
        "\n",
        "list4=[2,45,6,5]\n",
        "for i in range(len(list4)):\n",
        "  for j in range(0,len(list4)-i-1):\n",
        "    print(\"o\")"
      ]
    },
    {
      "cell_type": "code",
      "execution_count": null,
      "metadata": {
        "colab": {
          "base_uri": "https://localhost:8080/"
        },
        "id": "pfLbLFlubxjp",
        "outputId": "635a1c38-0ace-41e4-b6bd-480ba1a916a1"
      },
      "outputs": [
        {
          "name": "stdout",
          "output_type": "stream",
          "text": [
            "enter no.of elements to be added to stack: 4\n",
            "enter elements:6\n",
            "enter elements:8\n",
            "enter elements:1\n",
            "enter elements:2\n",
            "6_8_1_2_"
          ]
        }
      ],
      "source": [
        "stack1=[]\n",
        "n=int(input(\"enter no.of elements to be added to stack: \"))\n",
        "for i in range(n):\n",
        "  x=int(input(\"enter elements:\"))\n",
        "  stack1.append(x)\n",
        "for k in stack1:\n",
        "  print(k,end='_')\n"
      ]
    },
    {
      "cell_type": "code",
      "execution_count": null,
      "metadata": {
        "colab": {
          "base_uri": "https://localhost:8080/"
        },
        "id": "0XkHmP4hcuJQ",
        "outputId": "fafaf685-7679-4e44-9123-5a15e946aaea"
      },
      "outputs": [
        {
          "name": "stdout",
          "output_type": "stream",
          "text": [
            "2 is found at index 1\n"
          ]
        }
      ],
      "source": [
        "#this is program for linear search\n",
        "stack1=[6,5,1,2]\n",
        "x=2\n",
        "\n",
        "def linearsearch(stack1,x):\n",
        "  for i in stack1:\n",
        "    if i==x:\n",
        "      print(x,\"is found at index\",stack1[i])\n",
        "\n",
        "linearsearch(stack1,x)"
      ]
    },
    {
      "cell_type": "code",
      "execution_count": null,
      "metadata": {
        "colab": {
          "base_uri": "https://localhost:8080/"
        },
        "id": "ndjfdF3ckITi",
        "outputId": "09af8a7e-cadd-4dee-be33-fa279d003d8a"
      },
      "outputs": [
        {
          "name": "stdout",
          "output_type": "stream",
          "text": [
            "element is found at: 2\n"
          ]
        }
      ],
      "source": [
        "#binary search program\n",
        "stack5=[4,5,6,1,2]\n",
        "stack5.sort()  #[1,2,4,5,6]\n",
        "high=len(stack5)-1\n",
        "low=0\n",
        "x=4\n",
        "\n",
        "def binarysearch(stack5,high,low,x):\n",
        "  mid=(high+low)//2\n",
        "  if stack5[mid]==x:\n",
        "    return mid\n",
        "  elif(stack5[mid]>x):\n",
        "    return binarysearch(stack5,low,mid-1,x)\n",
        "  elif(stack5[mid]<x):\n",
        "    return binarysearch(stack5,mid+1,high,x)\n",
        "\n",
        "r=binarysearch(stack5,high,low,x)\n",
        "print(\"element is found at:\",str(r))"
      ]
    },
    {
      "cell_type": "code",
      "execution_count": null,
      "metadata": {
        "id": "07-00lUZjg4K"
      },
      "outputs": [],
      "source": [
        "# https://leetcode.com/tag/binary-search/ link for practicing binary search\n",
        "\n",
        "#this is reference program for binary search from geeks for greeks\n",
        "\n",
        "\n",
        "# Python 3 program for recursive binary search.\n",
        "# Modifications needed for the older Python 2 are found in comments.\n",
        "\n",
        "# Returns index of x in arr if present, else -1\n",
        "def binary_search(arr, low, high, x):\n",
        "\n",
        "\t# Check base case\n",
        "\tif high >= low:\n",
        "\n",
        "\t\tmid = (high + low) // 2\n",
        "\n",
        "\t\t# If element is present at the middle itself\n",
        "\t\tif arr[mid] == x:\n",
        "\t\t\treturn mid\n",
        "\n",
        "\t\t# If element is smaller than mid, then it can only\n",
        "\t\t# be present in left subarray\n",
        "\t\telif arr[mid] > x:\n",
        "\t\t\treturn binary_search(arr, low, mid - 1, x)\n",
        "\n",
        "\t\t# Else the element can only be present in right subarray\n",
        "\t\telse:\n",
        "\t\t\treturn binary_search(arr, mid + 1, high, x)\n",
        "\n",
        "\telse:\n",
        "\t\t# Element is not present in the array\n",
        "\t\treturn -1\n",
        "\n",
        "# Test array\n",
        "arr = [ 2, 3, 4, 10, 40 ]\n",
        "x = 10\n",
        "\n",
        "# Function call\n",
        "result = binary_search(arr, 0, len(arr)-1, x)\n",
        "\n",
        "if result != -1:\n",
        "\tprint(\"Element is present at index\", str(result))\n",
        "else:\n",
        "\tprint(\"Element is not present in array\")\n"
      ]
    },
    {
      "cell_type": "code",
      "execution_count": null,
      "metadata": {
        "id": "TQvZoVwLpW_2"
      },
      "outputs": [],
      "source": []
    },
    {
      "cell_type": "code",
      "execution_count": null,
      "metadata": {
        "id": "9ht6ca-PpeIj"
      },
      "outputs": [],
      "source": []
    }
  ],
  "metadata": {
    "colab": {
      "provenance": []
    },
    "kernelspec": {
      "display_name": "Python 3",
      "name": "python3"
    },
    "language_info": {
      "name": "python"
    }
  },
  "nbformat": 4,
  "nbformat_minor": 0
}
